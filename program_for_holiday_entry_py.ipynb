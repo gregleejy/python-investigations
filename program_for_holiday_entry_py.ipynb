{
  "nbformat": 4,
  "nbformat_minor": 0,
  "metadata": {
    "colab": {
      "provenance": [],
      "authorship_tag": "ABX9TyNauvk1qqom+/3RtcKhGVhA",
      "include_colab_link": true
    },
    "kernelspec": {
      "name": "python3",
      "display_name": "Python 3"
    },
    "language_info": {
      "name": "python"
    }
  },
  "cells": [
    {
      "cell_type": "markdown",
      "metadata": {
        "id": "view-in-github",
        "colab_type": "text"
      },
      "source": [
        "<a href=\"https://colab.research.google.com/github/gregleejy/python-investigations/blob/master/program_for_holiday_entry_py.ipynb\" target=\"_parent\"><img src=\"https://colab.research.google.com/assets/colab-badge.svg\" alt=\"Open In Colab\"/></a>"
      ]
    },
    {
      "cell_type": "code",
      "execution_count": 2,
      "metadata": {
        "colab": {
          "base_uri": "https://localhost:8080/"
        },
        "id": "sT8HrMTUFejt",
        "outputId": "2397f9f4-7017-48e6-fb9b-1af0d9156695"
      },
      "outputs": [
        {
          "output_type": "stream",
          "name": "stdout",
          "text": [
            "What is your name? Greg\n",
            "How old are you? 15\n",
            "I am sorry Greg, you are inelligble for entry as you are 15 years old.\n"
          ]
        }
      ],
      "source": [
        "name = input(\"What is your name? \")\n",
        "age = input(\"How old are you? \")\n",
        "\n",
        "if 18 < int(age) < 31:\n",
        "  print(\"Welcome to the holiday {}!\".format(name))\n",
        "else:\n",
        "  print(\"I am sorry {}, you are inelligble for entry as you are {} years old.\".format(name,age))"
      ]
    },
    {
      "cell_type": "code",
      "source": [
        "name = input(\"What is your name? \")\n",
        "age = input(\"How old are you? \")\n",
        "\n",
        "if 18 < int(age) < 31:\n",
        "  print(\"Welcome to the holiday {}!\".format(name))\n",
        "else:\n",
        "  print(\"I am sorry {}, you are inelligble for entry as you are {} years old.\".format(name,age))"
      ],
      "metadata": {
        "colab": {
          "base_uri": "https://localhost:8080/"
        },
        "id": "WZ-tWP1OHNwh",
        "outputId": "17b58e83-e1c2-4d2f-faa3-d48ae401645e"
      },
      "execution_count": 3,
      "outputs": [
        {
          "output_type": "stream",
          "name": "stdout",
          "text": [
            "What is your name? Jacob\n",
            "How old are you? 23\n",
            "Welcome to the holiday Jacob!\n"
          ]
        }
      ]
    }
  ]
}